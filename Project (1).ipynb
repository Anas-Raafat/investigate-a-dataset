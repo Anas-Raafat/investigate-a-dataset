{
 "cells": [
  {
   "cell_type": "markdown",
   "id": "e96f400f",
   "metadata": {},
   "source": [
    "# Investigate a Data set - [Soccer Data]\n",
    "\n",
    "## Contents list:\n",
    "<ul>\n",
    "    <p>.Introduction</p>\n",
    "    <p>.Data Wrangling</p>\n",
    "    <p>.EDA(Exploratory Data Analysis)\n",
    "    <p>.Conclusions</p>\n",
    "\n",
    "\n"
   ]
  },
  {
   "cell_type": "markdown",
   "id": "de8698fd",
   "metadata": {},
   "source": [
    " "
   ]
  },
  {
   "cell_type": "markdown",
   "id": "a2ebd30d",
   "metadata": {},
   "source": [
    "## Introduction"
   ]
  },
  {
   "cell_type": "markdown",
   "id": "bf576954",
   "metadata": {},
   "source": [
    "This data set contains information about soccer matches, players, and teams from several European countries from 2008 to 2016.\n",
    "\n",
    ". The dataset is quite extensive. You can read more about it in the Kaggle documentation for the database this dataset was . . . created from: European Soccer Database(opens in a new tab). . Some column titles should be self-explanatory, and others you’ll have to look up on Kaggle.\n",
    "\n",
    "​"
   ]
  },
  {
   "cell_type": "markdown",
   "id": "7ba93758",
   "metadata": {},
   "source": [
    "## Data describtion\n",
    "we have a csv file which we are going to analyze it"
   ]
  },
  {
   "cell_type": "markdown",
   "id": "81270c74",
   "metadata": {},
   "source": [
    "## Question(s) to analyze\n",
    "\n",
    "<p>which team played the most in all leagues?</p>\n",
    "<p>which team won the most matches in each league?</p>\n",
    "\n"
   ]
  },
  {
   "cell_type": "code",
   "execution_count": 1,
   "id": "cdf604c6",
   "metadata": {},
   "outputs": [],
   "source": [
    "#Calling Liabries\n",
    "import numpy as np\n",
    "import pandas as pd\n",
    "import matplotlib.pyplot as plt\n",
    "import seaborn as sns\n",
    "\n",
    "#Enabling inline plotting in Jupyter Notebook\n",
    "%matplotlib inline"
   ]
  },
  {
   "cell_type": "markdown",
   "id": "48f2ac39",
   "metadata": {},
   "source": [
    "# Data Wrangling\n",
    " in this section of our report, we are going to check for the cleaniss of our data and then clean it for\n",
    " our analysis"
   ]
  },
  {
   "cell_type": "markdown",
   "id": "64e76889",
   "metadata": {},
   "source": [
    "## General properties"
   ]
  },
  {
   "cell_type": "code",
   "execution_count": 2,
   "id": "f4a43323",
   "metadata": {},
   "outputs": [
    {
     "data": {
      "text/html": [
       "<div>\n",
       "<style scoped>\n",
       "    .dataframe tbody tr th:only-of-type {\n",
       "        vertical-align: middle;\n",
       "    }\n",
       "\n",
       "    .dataframe tbody tr th {\n",
       "        vertical-align: top;\n",
       "    }\n",
       "\n",
       "    .dataframe thead th {\n",
       "        text-align: right;\n",
       "    }\n",
       "</style>\n",
       "<table border=\"1\" class=\"dataframe\">\n",
       "  <thead>\n",
       "    <tr style=\"text-align: right;\">\n",
       "      <th></th>\n",
       "      <th>id</th>\n",
       "      <th>country_id</th>\n",
       "      <th>league_id</th>\n",
       "      <th>season</th>\n",
       "      <th>stage</th>\n",
       "      <th>date</th>\n",
       "      <th>match_api_id</th>\n",
       "      <th>home_team_api_id</th>\n",
       "      <th>away_team_api_id</th>\n",
       "      <th>home_team_goal</th>\n",
       "      <th>...</th>\n",
       "      <th>away_player_10</th>\n",
       "      <th>away_player_11</th>\n",
       "      <th>goal</th>\n",
       "      <th>shoton</th>\n",
       "      <th>shotoff</th>\n",
       "      <th>foulcommit</th>\n",
       "      <th>card</th>\n",
       "      <th>cross</th>\n",
       "      <th>corner</th>\n",
       "      <th>possession</th>\n",
       "    </tr>\n",
       "  </thead>\n",
       "  <tbody>\n",
       "    <tr>\n",
       "      <th>0</th>\n",
       "      <td>1</td>\n",
       "      <td>Belgium</td>\n",
       "      <td>Belgium Jupiler League</td>\n",
       "      <td>2008/2009</td>\n",
       "      <td>1</td>\n",
       "      <td>17/08/2008 0:00</td>\n",
       "      <td>492473</td>\n",
       "      <td>KRC Genk</td>\n",
       "      <td>Beerschot AC</td>\n",
       "      <td>1</td>\n",
       "      <td>...</td>\n",
       "      <td>NaN</td>\n",
       "      <td>NaN</td>\n",
       "      <td>NaN</td>\n",
       "      <td>NaN</td>\n",
       "      <td>NaN</td>\n",
       "      <td>NaN</td>\n",
       "      <td>NaN</td>\n",
       "      <td>NaN</td>\n",
       "      <td>NaN</td>\n",
       "      <td>NaN</td>\n",
       "    </tr>\n",
       "    <tr>\n",
       "      <th>1</th>\n",
       "      <td>2</td>\n",
       "      <td>Belgium</td>\n",
       "      <td>Belgium Jupiler League</td>\n",
       "      <td>2008/2009</td>\n",
       "      <td>1</td>\n",
       "      <td>16/08/2008 0:00</td>\n",
       "      <td>492474</td>\n",
       "      <td>SV Zulte-Waregem</td>\n",
       "      <td>Sporting Lokeren</td>\n",
       "      <td>0</td>\n",
       "      <td>...</td>\n",
       "      <td>NaN</td>\n",
       "      <td>NaN</td>\n",
       "      <td>NaN</td>\n",
       "      <td>NaN</td>\n",
       "      <td>NaN</td>\n",
       "      <td>NaN</td>\n",
       "      <td>NaN</td>\n",
       "      <td>NaN</td>\n",
       "      <td>NaN</td>\n",
       "      <td>NaN</td>\n",
       "    </tr>\n",
       "    <tr>\n",
       "      <th>2</th>\n",
       "      <td>3</td>\n",
       "      <td>Belgium</td>\n",
       "      <td>Belgium Jupiler League</td>\n",
       "      <td>2008/2009</td>\n",
       "      <td>1</td>\n",
       "      <td>16/08/2008 0:00</td>\n",
       "      <td>492475</td>\n",
       "      <td>KSV Cercle Brugge</td>\n",
       "      <td>RSC Anderlecht</td>\n",
       "      <td>0</td>\n",
       "      <td>...</td>\n",
       "      <td>NaN</td>\n",
       "      <td>NaN</td>\n",
       "      <td>NaN</td>\n",
       "      <td>NaN</td>\n",
       "      <td>NaN</td>\n",
       "      <td>NaN</td>\n",
       "      <td>NaN</td>\n",
       "      <td>NaN</td>\n",
       "      <td>NaN</td>\n",
       "      <td>NaN</td>\n",
       "    </tr>\n",
       "    <tr>\n",
       "      <th>3</th>\n",
       "      <td>4</td>\n",
       "      <td>Belgium</td>\n",
       "      <td>Belgium Jupiler League</td>\n",
       "      <td>2008/2009</td>\n",
       "      <td>1</td>\n",
       "      <td>17/08/2008 0:00</td>\n",
       "      <td>492476</td>\n",
       "      <td>KAA Gent</td>\n",
       "      <td>RAEC Mons</td>\n",
       "      <td>5</td>\n",
       "      <td>...</td>\n",
       "      <td>NaN</td>\n",
       "      <td>NaN</td>\n",
       "      <td>NaN</td>\n",
       "      <td>NaN</td>\n",
       "      <td>NaN</td>\n",
       "      <td>NaN</td>\n",
       "      <td>NaN</td>\n",
       "      <td>NaN</td>\n",
       "      <td>NaN</td>\n",
       "      <td>NaN</td>\n",
       "    </tr>\n",
       "    <tr>\n",
       "      <th>4</th>\n",
       "      <td>5</td>\n",
       "      <td>Belgium</td>\n",
       "      <td>Belgium Jupiler League</td>\n",
       "      <td>2008/2009</td>\n",
       "      <td>1</td>\n",
       "      <td>16/08/2008 0:00</td>\n",
       "      <td>492477</td>\n",
       "      <td>FCV Dender EH</td>\n",
       "      <td>Standard de Liège</td>\n",
       "      <td>1</td>\n",
       "      <td>...</td>\n",
       "      <td>NaN</td>\n",
       "      <td>NaN</td>\n",
       "      <td>NaN</td>\n",
       "      <td>NaN</td>\n",
       "      <td>NaN</td>\n",
       "      <td>NaN</td>\n",
       "      <td>NaN</td>\n",
       "      <td>NaN</td>\n",
       "      <td>NaN</td>\n",
       "      <td>NaN</td>\n",
       "    </tr>\n",
       "  </tbody>\n",
       "</table>\n",
       "<p>5 rows × 85 columns</p>\n",
       "</div>"
      ],
      "text/plain": [
       "   id country_id               league_id     season  stage             date  \\\n",
       "0   1    Belgium  Belgium Jupiler League  2008/2009      1  17/08/2008 0:00   \n",
       "1   2    Belgium  Belgium Jupiler League  2008/2009      1  16/08/2008 0:00   \n",
       "2   3    Belgium  Belgium Jupiler League  2008/2009      1  16/08/2008 0:00   \n",
       "3   4    Belgium  Belgium Jupiler League  2008/2009      1  17/08/2008 0:00   \n",
       "4   5    Belgium  Belgium Jupiler League  2008/2009      1  16/08/2008 0:00   \n",
       "\n",
       "   match_api_id   home_team_api_id   away_team_api_id  home_team_goal  ...  \\\n",
       "0        492473           KRC Genk       Beerschot AC               1  ...   \n",
       "1        492474   SV Zulte-Waregem   Sporting Lokeren               0  ...   \n",
       "2        492475  KSV Cercle Brugge     RSC Anderlecht               0  ...   \n",
       "3        492476           KAA Gent          RAEC Mons               5  ...   \n",
       "4        492477      FCV Dender EH  Standard de Liège               1  ...   \n",
       "\n",
       "   away_player_10  away_player_11  goal  shoton  shotoff  foulcommit  card  \\\n",
       "0             NaN             NaN   NaN     NaN      NaN         NaN   NaN   \n",
       "1             NaN             NaN   NaN     NaN      NaN         NaN   NaN   \n",
       "2             NaN             NaN   NaN     NaN      NaN         NaN   NaN   \n",
       "3             NaN             NaN   NaN     NaN      NaN         NaN   NaN   \n",
       "4             NaN             NaN   NaN     NaN      NaN         NaN   NaN   \n",
       "\n",
       "   cross  corner  possession  \n",
       "0    NaN     NaN         NaN  \n",
       "1    NaN     NaN         NaN  \n",
       "2    NaN     NaN         NaN  \n",
       "3    NaN     NaN         NaN  \n",
       "4    NaN     NaN         NaN  \n",
       "\n",
       "[5 rows x 85 columns]"
      ]
     },
     "execution_count": 2,
     "metadata": {},
     "output_type": "execute_result"
    }
   ],
   "source": [
    "#calling source File:\n",
    "df = pd.read_csv('Match.CSV')\n",
    "df.head()"
   ]
  },
  {
   "cell_type": "code",
   "execution_count": 3,
   "id": "08688fff",
   "metadata": {},
   "outputs": [
    {
     "data": {
      "text/plain": [
       "Index(['id', 'country_id', 'league_id', 'season', 'stage', 'date',\n",
       "       'match_api_id', 'home_team_api_id', 'away_team_api_id',\n",
       "       'home_team_goal', 'away_team_goal', 'home_player_X1', 'home_player_X2',\n",
       "       'home_player_X3', 'home_player_X4', 'home_player_X5', 'home_player_X6',\n",
       "       'home_player_X7', 'home_player_X8', 'home_player_X9', 'home_player_X10',\n",
       "       'home_player_X11', 'away_player_X1', 'away_player_X2', 'away_player_X3',\n",
       "       'away_player_X4', 'away_player_X5', 'away_player_X6', 'away_player_X7',\n",
       "       'away_player_X8', 'away_player_X9', 'away_player_X10',\n",
       "       'away_player_X11', 'home_player_Y1', 'home_player_Y2', 'home_player_Y3',\n",
       "       'home_player_Y4', 'home_player_Y5', 'home_player_Y6', 'home_player_Y7',\n",
       "       'home_player_Y8', 'home_player_Y9', 'home_player_Y10',\n",
       "       'home_player_Y11', 'away_player_Y1', 'away_player_Y2', 'away_player_Y3',\n",
       "       'away_player_Y4', 'away_player_Y5', 'away_player_Y6', 'away_player_Y7',\n",
       "       'away_player_Y8', 'away_player_Y9', 'away_player_Y10',\n",
       "       'away_player_Y11', 'home_player_1', 'home_player_2', 'home_player_3',\n",
       "       'home_player_4', 'home_player_5', 'home_player_6', 'home_player_7',\n",
       "       'home_player_8', 'home_player_9', 'home_player_10', 'home_player_11',\n",
       "       'away_player_1', 'away_player_2', 'away_player_3', 'away_player_4',\n",
       "       'away_player_5', 'away_player_6', 'away_player_7', 'away_player_8',\n",
       "       'away_player_9', 'away_player_10', 'away_player_11', 'goal', 'shoton',\n",
       "       'shotoff', 'foulcommit', 'card', 'cross', 'corner', 'possession'],\n",
       "      dtype='object')"
      ]
     },
     "execution_count": 3,
     "metadata": {},
     "output_type": "execute_result"
    }
   ],
   "source": [
    "# Print all the column names in my dataset\n",
    "df.columns"
   ]
  },
  {
   "cell_type": "code",
   "execution_count": 4,
   "id": "d699b56d",
   "metadata": {},
   "outputs": [
    {
     "name": "stdout",
     "output_type": "stream",
     "text": [
      "<class 'pandas.core.frame.DataFrame'>\n"
     ]
    }
   ],
   "source": [
    "#printing the data type of the variable df\n",
    "print(type(df))"
   ]
  },
  {
   "cell_type": "code",
   "execution_count": 5,
   "id": "beaabf27",
   "metadata": {},
   "outputs": [
    {
     "data": {
      "text/html": [
       "<div>\n",
       "<style scoped>\n",
       "    .dataframe tbody tr th:only-of-type {\n",
       "        vertical-align: middle;\n",
       "    }\n",
       "\n",
       "    .dataframe tbody tr th {\n",
       "        vertical-align: top;\n",
       "    }\n",
       "\n",
       "    .dataframe thead th {\n",
       "        text-align: right;\n",
       "    }\n",
       "</style>\n",
       "<table border=\"1\" class=\"dataframe\">\n",
       "  <thead>\n",
       "    <tr style=\"text-align: right;\">\n",
       "      <th></th>\n",
       "      <th>id</th>\n",
       "      <th>country_id</th>\n",
       "      <th>league_id</th>\n",
       "      <th>season</th>\n",
       "      <th>stage</th>\n",
       "      <th>date</th>\n",
       "      <th>match_api_id</th>\n",
       "      <th>home_team_api_id</th>\n",
       "      <th>away_team_api_id</th>\n",
       "      <th>home_team_goal</th>\n",
       "      <th>...</th>\n",
       "      <th>away_player_10</th>\n",
       "      <th>away_player_11</th>\n",
       "      <th>goal</th>\n",
       "      <th>shoton</th>\n",
       "      <th>shotoff</th>\n",
       "      <th>foulcommit</th>\n",
       "      <th>card</th>\n",
       "      <th>cross</th>\n",
       "      <th>corner</th>\n",
       "      <th>possession</th>\n",
       "    </tr>\n",
       "  </thead>\n",
       "  <tbody>\n",
       "    <tr>\n",
       "      <th>0</th>\n",
       "      <td>1</td>\n",
       "      <td>Belgium</td>\n",
       "      <td>Belgium Jupiler League</td>\n",
       "      <td>2008/2009</td>\n",
       "      <td>1</td>\n",
       "      <td>17/08/2008 0:00</td>\n",
       "      <td>492473</td>\n",
       "      <td>KRC Genk</td>\n",
       "      <td>Beerschot AC</td>\n",
       "      <td>1</td>\n",
       "      <td>...</td>\n",
       "      <td>NaN</td>\n",
       "      <td>NaN</td>\n",
       "      <td>NaN</td>\n",
       "      <td>NaN</td>\n",
       "      <td>NaN</td>\n",
       "      <td>NaN</td>\n",
       "      <td>NaN</td>\n",
       "      <td>NaN</td>\n",
       "      <td>NaN</td>\n",
       "      <td>NaN</td>\n",
       "    </tr>\n",
       "    <tr>\n",
       "      <th>1</th>\n",
       "      <td>2</td>\n",
       "      <td>Belgium</td>\n",
       "      <td>Belgium Jupiler League</td>\n",
       "      <td>2008/2009</td>\n",
       "      <td>1</td>\n",
       "      <td>16/08/2008 0:00</td>\n",
       "      <td>492474</td>\n",
       "      <td>SV Zulte-Waregem</td>\n",
       "      <td>Sporting Lokeren</td>\n",
       "      <td>0</td>\n",
       "      <td>...</td>\n",
       "      <td>NaN</td>\n",
       "      <td>NaN</td>\n",
       "      <td>NaN</td>\n",
       "      <td>NaN</td>\n",
       "      <td>NaN</td>\n",
       "      <td>NaN</td>\n",
       "      <td>NaN</td>\n",
       "      <td>NaN</td>\n",
       "      <td>NaN</td>\n",
       "      <td>NaN</td>\n",
       "    </tr>\n",
       "    <tr>\n",
       "      <th>2</th>\n",
       "      <td>3</td>\n",
       "      <td>Belgium</td>\n",
       "      <td>Belgium Jupiler League</td>\n",
       "      <td>2008/2009</td>\n",
       "      <td>1</td>\n",
       "      <td>16/08/2008 0:00</td>\n",
       "      <td>492475</td>\n",
       "      <td>KSV Cercle Brugge</td>\n",
       "      <td>RSC Anderlecht</td>\n",
       "      <td>0</td>\n",
       "      <td>...</td>\n",
       "      <td>NaN</td>\n",
       "      <td>NaN</td>\n",
       "      <td>NaN</td>\n",
       "      <td>NaN</td>\n",
       "      <td>NaN</td>\n",
       "      <td>NaN</td>\n",
       "      <td>NaN</td>\n",
       "      <td>NaN</td>\n",
       "      <td>NaN</td>\n",
       "      <td>NaN</td>\n",
       "    </tr>\n",
       "    <tr>\n",
       "      <th>3</th>\n",
       "      <td>4</td>\n",
       "      <td>Belgium</td>\n",
       "      <td>Belgium Jupiler League</td>\n",
       "      <td>2008/2009</td>\n",
       "      <td>1</td>\n",
       "      <td>17/08/2008 0:00</td>\n",
       "      <td>492476</td>\n",
       "      <td>KAA Gent</td>\n",
       "      <td>RAEC Mons</td>\n",
       "      <td>5</td>\n",
       "      <td>...</td>\n",
       "      <td>NaN</td>\n",
       "      <td>NaN</td>\n",
       "      <td>NaN</td>\n",
       "      <td>NaN</td>\n",
       "      <td>NaN</td>\n",
       "      <td>NaN</td>\n",
       "      <td>NaN</td>\n",
       "      <td>NaN</td>\n",
       "      <td>NaN</td>\n",
       "      <td>NaN</td>\n",
       "    </tr>\n",
       "    <tr>\n",
       "      <th>4</th>\n",
       "      <td>5</td>\n",
       "      <td>Belgium</td>\n",
       "      <td>Belgium Jupiler League</td>\n",
       "      <td>2008/2009</td>\n",
       "      <td>1</td>\n",
       "      <td>16/08/2008 0:00</td>\n",
       "      <td>492477</td>\n",
       "      <td>FCV Dender EH</td>\n",
       "      <td>Standard de Liège</td>\n",
       "      <td>1</td>\n",
       "      <td>...</td>\n",
       "      <td>NaN</td>\n",
       "      <td>NaN</td>\n",
       "      <td>NaN</td>\n",
       "      <td>NaN</td>\n",
       "      <td>NaN</td>\n",
       "      <td>NaN</td>\n",
       "      <td>NaN</td>\n",
       "      <td>NaN</td>\n",
       "      <td>NaN</td>\n",
       "      <td>NaN</td>\n",
       "    </tr>\n",
       "  </tbody>\n",
       "</table>\n",
       "<p>5 rows × 85 columns</p>\n",
       "</div>"
      ],
      "text/plain": [
       "   id country_id               league_id     season  stage             date  \\\n",
       "0   1    Belgium  Belgium Jupiler League  2008/2009      1  17/08/2008 0:00   \n",
       "1   2    Belgium  Belgium Jupiler League  2008/2009      1  16/08/2008 0:00   \n",
       "2   3    Belgium  Belgium Jupiler League  2008/2009      1  16/08/2008 0:00   \n",
       "3   4    Belgium  Belgium Jupiler League  2008/2009      1  17/08/2008 0:00   \n",
       "4   5    Belgium  Belgium Jupiler League  2008/2009      1  16/08/2008 0:00   \n",
       "\n",
       "   match_api_id   home_team_api_id   away_team_api_id  home_team_goal  ...  \\\n",
       "0        492473           KRC Genk       Beerschot AC               1  ...   \n",
       "1        492474   SV Zulte-Waregem   Sporting Lokeren               0  ...   \n",
       "2        492475  KSV Cercle Brugge     RSC Anderlecht               0  ...   \n",
       "3        492476           KAA Gent          RAEC Mons               5  ...   \n",
       "4        492477      FCV Dender EH  Standard de Liège               1  ...   \n",
       "\n",
       "   away_player_10  away_player_11  goal  shoton  shotoff  foulcommit  card  \\\n",
       "0             NaN             NaN   NaN     NaN      NaN         NaN   NaN   \n",
       "1             NaN             NaN   NaN     NaN      NaN         NaN   NaN   \n",
       "2             NaN             NaN   NaN     NaN      NaN         NaN   NaN   \n",
       "3             NaN             NaN   NaN     NaN      NaN         NaN   NaN   \n",
       "4             NaN             NaN   NaN     NaN      NaN         NaN   NaN   \n",
       "\n",
       "   cross  corner  possession  \n",
       "0    NaN     NaN         NaN  \n",
       "1    NaN     NaN         NaN  \n",
       "2    NaN     NaN         NaN  \n",
       "3    NaN     NaN         NaN  \n",
       "4    NaN     NaN         NaN  \n",
       "\n",
       "[5 rows x 85 columns]"
      ]
     },
     "execution_count": 5,
     "metadata": {},
     "output_type": "execute_result"
    }
   ],
   "source": [
    "#now we are going to show our fiet few rows and columns\n",
    "df.head()"
   ]
  },
  {
   "cell_type": "markdown",
   "id": "739e9b7f",
   "metadata": {},
   "source": [
    "As we can see there are alot of columns with missing values like the:away_player_10, away_player_11\tgoal,shoton, shotoff, \tfoulcommitand etc. which we are going to handle in our data wrangling process.\t"
   ]
  },
  {
   "cell_type": "code",
   "execution_count": 6,
   "id": "2a120354",
   "metadata": {},
   "outputs": [
    {
     "data": {
      "text/plain": [
       "(25979, 85)"
      ]
     },
     "execution_count": 6,
     "metadata": {},
     "output_type": "execute_result"
    }
   ],
   "source": [
    "#exploring the shape of our data\n",
    "df.shape"
   ]
  },
  {
   "cell_type": "code",
   "execution_count": 7,
   "id": "da66a796",
   "metadata": {},
   "outputs": [
    {
     "data": {
      "text/plain": [
       "0"
      ]
     },
     "execution_count": 7,
     "metadata": {},
     "output_type": "execute_result"
    }
   ],
   "source": [
    "#checking for duplications\n",
    "df.duplicated().sum()"
   ]
  },
  {
   "cell_type": "code",
   "execution_count": 8,
   "id": "0e042b7f",
   "metadata": {
    "scrolled": true
   },
   "outputs": [
    {
     "data": {
      "text/plain": [
       "199857"
      ]
     },
     "execution_count": 8,
     "metadata": {},
     "output_type": "execute_result"
    }
   ],
   "source": [
    "#checking for number of unique values\n",
    "df.nunique().sum()"
   ]
  },
  {
   "cell_type": "code",
   "execution_count": 9,
   "id": "9b9b5837",
   "metadata": {},
   "outputs": [
    {
     "data": {
      "text/plain": [
       "0"
      ]
     },
     "execution_count": 9,
     "metadata": {},
     "output_type": "execute_result"
    }
   ],
   "source": [
    "#checking duplicates in the match_api_id column \n",
    "df['match_api_id'].duplicated().sum()"
   ]
  },
  {
   "cell_type": "code",
   "execution_count": 10,
   "id": "3c505274",
   "metadata": {},
   "outputs": [
    {
     "data": {
      "text/plain": [
       "league_id\n",
       "England Premier League      3040\n",
       "France Ligue 1              3040\n",
       "Spain LIGA BBVA             3040\n",
       "Italy Serie A               3017\n",
       "Germany 1. Bundesliga       2448\n",
       "Netherlands Eredivisie      2448\n",
       "Portugal Liga ZON Sagres    2052\n",
       "Poland Ekstraklasa          1920\n",
       "Scotland Premier League     1824\n",
       "Belgium Jupiler League      1728\n",
       "Switzerland Super League    1422\n",
       "Name: count, dtype: int64"
      ]
     },
     "execution_count": 10,
     "metadata": {},
     "output_type": "execute_result"
    }
   ],
   "source": [
    "#checking for unique values in the league_id column\n",
    "df['league_id'].value_counts()"
   ]
  },
  {
   "cell_type": "code",
   "execution_count": 11,
   "id": "c7cba012",
   "metadata": {},
   "outputs": [
    {
     "data": {
      "text/plain": [
       "id                0\n",
       "country_id        0\n",
       "league_id         0\n",
       "season            0\n",
       "stage             0\n",
       "              ...  \n",
       "foulcommit    11762\n",
       "card          11762\n",
       "cross         11762\n",
       "corner        11762\n",
       "possession    11762\n",
       "Length: 85, dtype: int64"
      ]
     },
     "execution_count": 11,
     "metadata": {},
     "output_type": "execute_result"
    }
   ],
   "source": [
    "#now lets check for a;the null values in our columns\n",
    "df.isnull().sum()"
   ]
  },
  {
   "cell_type": "markdown",
   "id": "5c0cf5c1",
   "metadata": {},
   "source": [
    "now lets see if we have any duplicates"
   ]
  },
  {
   "cell_type": "code",
   "execution_count": 12,
   "id": "6da4e60b",
   "metadata": {},
   "outputs": [
    {
     "data": {
      "text/plain": [
       "0"
      ]
     },
     "execution_count": 12,
     "metadata": {},
     "output_type": "execute_result"
    }
   ],
   "source": [
    "#lets check if there are any duplicates in our columns\n",
    "df.duplicated().sum()"
   ]
  },
  {
   "cell_type": "markdown",
   "id": "790fcf03",
   "metadata": {},
   "source": [
    "Great now that we are assured that we do not have any duplicates "
   ]
  },
  {
   "cell_type": "code",
   "execution_count": 13,
   "id": "6c4bdc6e",
   "metadata": {},
   "outputs": [
    {
     "data": {
      "text/html": [
       "<div>\n",
       "<style scoped>\n",
       "    .dataframe tbody tr th:only-of-type {\n",
       "        vertical-align: middle;\n",
       "    }\n",
       "\n",
       "    .dataframe tbody tr th {\n",
       "        vertical-align: top;\n",
       "    }\n",
       "\n",
       "    .dataframe thead th {\n",
       "        text-align: right;\n",
       "    }\n",
       "</style>\n",
       "<table border=\"1\" class=\"dataframe\">\n",
       "  <thead>\n",
       "    <tr style=\"text-align: right;\">\n",
       "      <th></th>\n",
       "      <th>id</th>\n",
       "      <th>stage</th>\n",
       "      <th>match_api_id</th>\n",
       "      <th>home_team_goal</th>\n",
       "      <th>away_team_goal</th>\n",
       "      <th>home_player_X1</th>\n",
       "      <th>home_player_X2</th>\n",
       "      <th>home_player_X3</th>\n",
       "      <th>home_player_X4</th>\n",
       "      <th>home_player_X5</th>\n",
       "      <th>...</th>\n",
       "      <th>away_player_2</th>\n",
       "      <th>away_player_3</th>\n",
       "      <th>away_player_4</th>\n",
       "      <th>away_player_5</th>\n",
       "      <th>away_player_6</th>\n",
       "      <th>away_player_7</th>\n",
       "      <th>away_player_8</th>\n",
       "      <th>away_player_9</th>\n",
       "      <th>away_player_10</th>\n",
       "      <th>away_player_11</th>\n",
       "    </tr>\n",
       "  </thead>\n",
       "  <tbody>\n",
       "    <tr>\n",
       "      <th>count</th>\n",
       "      <td>25979.000000</td>\n",
       "      <td>25979.000000</td>\n",
       "      <td>2.597900e+04</td>\n",
       "      <td>25979.000000</td>\n",
       "      <td>25979.000000</td>\n",
       "      <td>24158.000000</td>\n",
       "      <td>24158.000000</td>\n",
       "      <td>24147.000000</td>\n",
       "      <td>24147.000000</td>\n",
       "      <td>24147.000000</td>\n",
       "      <td>...</td>\n",
       "      <td>24701.000000</td>\n",
       "      <td>24686.000000</td>\n",
       "      <td>24658.000000</td>\n",
       "      <td>24644.000000</td>\n",
       "      <td>24666.000000</td>\n",
       "      <td>24744.000000</td>\n",
       "      <td>24638.000000</td>\n",
       "      <td>24651.000000</td>\n",
       "      <td>24538.000000</td>\n",
       "      <td>24425.000000</td>\n",
       "    </tr>\n",
       "    <tr>\n",
       "      <th>mean</th>\n",
       "      <td>12990.000000</td>\n",
       "      <td>18.242773</td>\n",
       "      <td>1.195429e+06</td>\n",
       "      <td>1.544594</td>\n",
       "      <td>1.160938</td>\n",
       "      <td>0.999586</td>\n",
       "      <td>2.073516</td>\n",
       "      <td>4.061001</td>\n",
       "      <td>6.049199</td>\n",
       "      <td>7.544871</td>\n",
       "      <td>...</td>\n",
       "      <td>107614.617424</td>\n",
       "      <td>91126.781293</td>\n",
       "      <td>95083.910617</td>\n",
       "      <td>109800.936901</td>\n",
       "      <td>102308.262588</td>\n",
       "      <td>97898.056014</td>\n",
       "      <td>109265.114214</td>\n",
       "      <td>111087.003448</td>\n",
       "      <td>107149.115943</td>\n",
       "      <td>104932.876970</td>\n",
       "    </tr>\n",
       "    <tr>\n",
       "      <th>std</th>\n",
       "      <td>7499.635658</td>\n",
       "      <td>10.407354</td>\n",
       "      <td>4.946279e+05</td>\n",
       "      <td>1.297158</td>\n",
       "      <td>1.142110</td>\n",
       "      <td>0.022284</td>\n",
       "      <td>0.387185</td>\n",
       "      <td>0.385973</td>\n",
       "      <td>0.446024</td>\n",
       "      <td>1.609682</td>\n",
       "      <td>...</td>\n",
       "      <td>113758.447918</td>\n",
       "      <td>101438.583414</td>\n",
       "      <td>103845.905029</td>\n",
       "      <td>112450.715516</td>\n",
       "      <td>110861.276758</td>\n",
       "      <td>107359.030969</td>\n",
       "      <td>116358.092456</td>\n",
       "      <td>116492.957656</td>\n",
       "      <td>112397.540326</td>\n",
       "      <td>110237.525957</td>\n",
       "    </tr>\n",
       "    <tr>\n",
       "      <th>min</th>\n",
       "      <td>1.000000</td>\n",
       "      <td>1.000000</td>\n",
       "      <td>4.831290e+05</td>\n",
       "      <td>0.000000</td>\n",
       "      <td>0.000000</td>\n",
       "      <td>0.000000</td>\n",
       "      <td>0.000000</td>\n",
       "      <td>1.000000</td>\n",
       "      <td>2.000000</td>\n",
       "      <td>1.000000</td>\n",
       "      <td>...</td>\n",
       "      <td>2790.000000</td>\n",
       "      <td>2752.000000</td>\n",
       "      <td>2752.000000</td>\n",
       "      <td>2790.000000</td>\n",
       "      <td>2625.000000</td>\n",
       "      <td>2625.000000</td>\n",
       "      <td>2625.000000</td>\n",
       "      <td>2625.000000</td>\n",
       "      <td>2770.000000</td>\n",
       "      <td>2802.000000</td>\n",
       "    </tr>\n",
       "    <tr>\n",
       "      <th>25%</th>\n",
       "      <td>6495.500000</td>\n",
       "      <td>9.000000</td>\n",
       "      <td>7.684365e+05</td>\n",
       "      <td>1.000000</td>\n",
       "      <td>0.000000</td>\n",
       "      <td>1.000000</td>\n",
       "      <td>2.000000</td>\n",
       "      <td>4.000000</td>\n",
       "      <td>6.000000</td>\n",
       "      <td>8.000000</td>\n",
       "      <td>...</td>\n",
       "      <td>32579.000000</td>\n",
       "      <td>30464.000000</td>\n",
       "      <td>30627.000000</td>\n",
       "      <td>33453.500000</td>\n",
       "      <td>31037.000000</td>\n",
       "      <td>30920.000000</td>\n",
       "      <td>32863.000000</td>\n",
       "      <td>33435.000000</td>\n",
       "      <td>32627.000000</td>\n",
       "      <td>32747.000000</td>\n",
       "    </tr>\n",
       "    <tr>\n",
       "      <th>50%</th>\n",
       "      <td>12990.000000</td>\n",
       "      <td>18.000000</td>\n",
       "      <td>1.147511e+06</td>\n",
       "      <td>1.000000</td>\n",
       "      <td>1.000000</td>\n",
       "      <td>1.000000</td>\n",
       "      <td>2.000000</td>\n",
       "      <td>4.000000</td>\n",
       "      <td>6.000000</td>\n",
       "      <td>8.000000</td>\n",
       "      <td>...</td>\n",
       "      <td>42388.000000</td>\n",
       "      <td>39892.000000</td>\n",
       "      <td>41083.000000</td>\n",
       "      <td>46212.000000</td>\n",
       "      <td>41634.500000</td>\n",
       "      <td>41433.000000</td>\n",
       "      <td>45816.000000</td>\n",
       "      <td>45860.000000</td>\n",
       "      <td>45358.000000</td>\n",
       "      <td>42652.000000</td>\n",
       "    </tr>\n",
       "    <tr>\n",
       "      <th>75%</th>\n",
       "      <td>19484.500000</td>\n",
       "      <td>27.000000</td>\n",
       "      <td>1.709852e+06</td>\n",
       "      <td>2.000000</td>\n",
       "      <td>2.000000</td>\n",
       "      <td>1.000000</td>\n",
       "      <td>2.000000</td>\n",
       "      <td>4.000000</td>\n",
       "      <td>6.000000</td>\n",
       "      <td>8.000000</td>\n",
       "      <td>...</td>\n",
       "      <td>159882.000000</td>\n",
       "      <td>121080.000000</td>\n",
       "      <td>145561.000000</td>\n",
       "      <td>160844.000000</td>\n",
       "      <td>151079.000000</td>\n",
       "      <td>144996.000000</td>\n",
       "      <td>163611.750000</td>\n",
       "      <td>164209.000000</td>\n",
       "      <td>161291.000000</td>\n",
       "      <td>161660.000000</td>\n",
       "    </tr>\n",
       "    <tr>\n",
       "      <th>max</th>\n",
       "      <td>25979.000000</td>\n",
       "      <td>38.000000</td>\n",
       "      <td>2.216672e+06</td>\n",
       "      <td>10.000000</td>\n",
       "      <td>9.000000</td>\n",
       "      <td>2.000000</td>\n",
       "      <td>8.000000</td>\n",
       "      <td>8.000000</td>\n",
       "      <td>8.000000</td>\n",
       "      <td>9.000000</td>\n",
       "      <td>...</td>\n",
       "      <td>748432.000000</td>\n",
       "      <td>705484.000000</td>\n",
       "      <td>728414.000000</td>\n",
       "      <td>746419.000000</td>\n",
       "      <td>722766.000000</td>\n",
       "      <td>750435.000000</td>\n",
       "      <td>717248.000000</td>\n",
       "      <td>722766.000000</td>\n",
       "      <td>722766.000000</td>\n",
       "      <td>726956.000000</td>\n",
       "    </tr>\n",
       "  </tbody>\n",
       "</table>\n",
       "<p>8 rows × 71 columns</p>\n",
       "</div>"
      ],
      "text/plain": [
       "                 id         stage  match_api_id  home_team_goal  \\\n",
       "count  25979.000000  25979.000000  2.597900e+04    25979.000000   \n",
       "mean   12990.000000     18.242773  1.195429e+06        1.544594   \n",
       "std     7499.635658     10.407354  4.946279e+05        1.297158   \n",
       "min        1.000000      1.000000  4.831290e+05        0.000000   \n",
       "25%     6495.500000      9.000000  7.684365e+05        1.000000   \n",
       "50%    12990.000000     18.000000  1.147511e+06        1.000000   \n",
       "75%    19484.500000     27.000000  1.709852e+06        2.000000   \n",
       "max    25979.000000     38.000000  2.216672e+06       10.000000   \n",
       "\n",
       "       away_team_goal  home_player_X1  home_player_X2  home_player_X3  \\\n",
       "count    25979.000000    24158.000000    24158.000000    24147.000000   \n",
       "mean         1.160938        0.999586        2.073516        4.061001   \n",
       "std          1.142110        0.022284        0.387185        0.385973   \n",
       "min          0.000000        0.000000        0.000000        1.000000   \n",
       "25%          0.000000        1.000000        2.000000        4.000000   \n",
       "50%          1.000000        1.000000        2.000000        4.000000   \n",
       "75%          2.000000        1.000000        2.000000        4.000000   \n",
       "max          9.000000        2.000000        8.000000        8.000000   \n",
       "\n",
       "       home_player_X4  home_player_X5  ...  away_player_2  away_player_3  \\\n",
       "count    24147.000000    24147.000000  ...   24701.000000   24686.000000   \n",
       "mean         6.049199        7.544871  ...  107614.617424   91126.781293   \n",
       "std          0.446024        1.609682  ...  113758.447918  101438.583414   \n",
       "min          2.000000        1.000000  ...    2790.000000    2752.000000   \n",
       "25%          6.000000        8.000000  ...   32579.000000   30464.000000   \n",
       "50%          6.000000        8.000000  ...   42388.000000   39892.000000   \n",
       "75%          6.000000        8.000000  ...  159882.000000  121080.000000   \n",
       "max          8.000000        9.000000  ...  748432.000000  705484.000000   \n",
       "\n",
       "       away_player_4  away_player_5  away_player_6  away_player_7  \\\n",
       "count   24658.000000   24644.000000   24666.000000   24744.000000   \n",
       "mean    95083.910617  109800.936901  102308.262588   97898.056014   \n",
       "std    103845.905029  112450.715516  110861.276758  107359.030969   \n",
       "min      2752.000000    2790.000000    2625.000000    2625.000000   \n",
       "25%     30627.000000   33453.500000   31037.000000   30920.000000   \n",
       "50%     41083.000000   46212.000000   41634.500000   41433.000000   \n",
       "75%    145561.000000  160844.000000  151079.000000  144996.000000   \n",
       "max    728414.000000  746419.000000  722766.000000  750435.000000   \n",
       "\n",
       "       away_player_8  away_player_9  away_player_10  away_player_11  \n",
       "count   24638.000000   24651.000000    24538.000000    24425.000000  \n",
       "mean   109265.114214  111087.003448   107149.115943   104932.876970  \n",
       "std    116358.092456  116492.957656   112397.540326   110237.525957  \n",
       "min      2625.000000    2625.000000     2770.000000     2802.000000  \n",
       "25%     32863.000000   33435.000000    32627.000000    32747.000000  \n",
       "50%     45816.000000   45860.000000    45358.000000    42652.000000  \n",
       "75%    163611.750000  164209.000000   161291.000000   161660.000000  \n",
       "max    717248.000000  722766.000000   722766.000000   726956.000000  \n",
       "\n",
       "[8 rows x 71 columns]"
      ]
     },
     "execution_count": 13,
     "metadata": {},
     "output_type": "execute_result"
    }
   ],
   "source": [
    "df.describe()"
   ]
  },
  {
   "cell_type": "code",
   "execution_count": 14,
   "id": "99419156",
   "metadata": {},
   "outputs": [
    {
     "data": {
      "text/plain": [
       "25941"
      ]
     },
     "execution_count": 14,
     "metadata": {},
     "output_type": "execute_result"
    }
   ],
   "source": [
    "# seeing the number of duplicates in the 'stage' column\n",
    "df['stage'].duplicated().sum()"
   ]
  },
  {
   "cell_type": "code",
   "execution_count": 15,
   "id": "f79883a3",
   "metadata": {},
   "outputs": [
    {
     "data": {
      "text/plain": [
       "0"
      ]
     },
     "execution_count": 15,
     "metadata": {},
     "output_type": "execute_result"
    }
   ],
   "source": [
    "#checking for null values in the 'home_team_goal'\n",
    "df['home_team_goal'].isnull().sum()"
   ]
  },
  {
   "cell_type": "code",
   "execution_count": 16,
   "id": "37b32c3b",
   "metadata": {},
   "outputs": [
    {
     "name": "stdout",
     "output_type": "stream",
     "text": [
      "<class 'pandas.core.frame.DataFrame'>\n",
      "RangeIndex: 25979 entries, 0 to 25978\n",
      "Data columns (total 85 columns):\n",
      " #   Column            Non-Null Count  Dtype  \n",
      "---  ------            --------------  -----  \n",
      " 0   id                25979 non-null  int64  \n",
      " 1   country_id        25979 non-null  object \n",
      " 2   league_id         25979 non-null  object \n",
      " 3   season            25979 non-null  object \n",
      " 4   stage             25979 non-null  int64  \n",
      " 5   date              25979 non-null  object \n",
      " 6   match_api_id      25979 non-null  int64  \n",
      " 7   home_team_api_id  25979 non-null  object \n",
      " 8   away_team_api_id  25979 non-null  object \n",
      " 9   home_team_goal    25979 non-null  int64  \n",
      " 10  away_team_goal    25979 non-null  int64  \n",
      " 11  home_player_X1    24158 non-null  float64\n",
      " 12  home_player_X2    24158 non-null  float64\n",
      " 13  home_player_X3    24147 non-null  float64\n",
      " 14  home_player_X4    24147 non-null  float64\n",
      " 15  home_player_X5    24147 non-null  float64\n",
      " 16  home_player_X6    24147 non-null  float64\n",
      " 17  home_player_X7    24147 non-null  float64\n",
      " 18  home_player_X8    24147 non-null  float64\n",
      " 19  home_player_X9    24147 non-null  float64\n",
      " 20  home_player_X10   24147 non-null  float64\n",
      " 21  home_player_X11   24147 non-null  float64\n",
      " 22  away_player_X1    24147 non-null  float64\n",
      " 23  away_player_X2    24147 non-null  float64\n",
      " 24  away_player_X3    24147 non-null  float64\n",
      " 25  away_player_X4    24147 non-null  float64\n",
      " 26  away_player_X5    24147 non-null  float64\n",
      " 27  away_player_X6    24147 non-null  float64\n",
      " 28  away_player_X7    24147 non-null  float64\n",
      " 29  away_player_X8    24147 non-null  float64\n",
      " 30  away_player_X9    24146 non-null  float64\n",
      " 31  away_player_X10   24146 non-null  float64\n",
      " 32  away_player_X11   24140 non-null  float64\n",
      " 33  home_player_Y1    24158 non-null  float64\n",
      " 34  home_player_Y2    24158 non-null  float64\n",
      " 35  home_player_Y3    24147 non-null  float64\n",
      " 36  home_player_Y4    24147 non-null  float64\n",
      " 37  home_player_Y5    24147 non-null  float64\n",
      " 38  home_player_Y6    24147 non-null  float64\n",
      " 39  home_player_Y7    24147 non-null  float64\n",
      " 40  home_player_Y8    24147 non-null  float64\n",
      " 41  home_player_Y9    24147 non-null  float64\n",
      " 42  home_player_Y10   24147 non-null  float64\n",
      " 43  home_player_Y11   24147 non-null  float64\n",
      " 44  away_player_Y1    24147 non-null  float64\n",
      " 45  away_player_Y2    24147 non-null  float64\n",
      " 46  away_player_Y3    24147 non-null  float64\n",
      " 47  away_player_Y4    24147 non-null  float64\n",
      " 48  away_player_Y5    24147 non-null  float64\n",
      " 49  away_player_Y6    24147 non-null  float64\n",
      " 50  away_player_Y7    24147 non-null  float64\n",
      " 51  away_player_Y8    24147 non-null  float64\n",
      " 52  away_player_Y9    24146 non-null  float64\n",
      " 53  away_player_Y10   24146 non-null  float64\n",
      " 54  away_player_Y11   24140 non-null  float64\n",
      " 55  home_player_1     24755 non-null  float64\n",
      " 56  home_player_2     24664 non-null  float64\n",
      " 57  home_player_3     24698 non-null  float64\n",
      " 58  home_player_4     24656 non-null  float64\n",
      " 59  home_player_5     24663 non-null  float64\n",
      " 60  home_player_6     24654 non-null  float64\n",
      " 61  home_player_7     24752 non-null  float64\n",
      " 62  home_player_8     24670 non-null  float64\n",
      " 63  home_player_9     24706 non-null  float64\n",
      " 64  home_player_10    24543 non-null  float64\n",
      " 65  home_player_11    24424 non-null  float64\n",
      " 66  away_player_1     24745 non-null  float64\n",
      " 67  away_player_2     24701 non-null  float64\n",
      " 68  away_player_3     24686 non-null  float64\n",
      " 69  away_player_4     24658 non-null  float64\n",
      " 70  away_player_5     24644 non-null  float64\n",
      " 71  away_player_6     24666 non-null  float64\n",
      " 72  away_player_7     24744 non-null  float64\n",
      " 73  away_player_8     24638 non-null  float64\n",
      " 74  away_player_9     24651 non-null  float64\n",
      " 75  away_player_10    24538 non-null  float64\n",
      " 76  away_player_11    24425 non-null  float64\n",
      " 77  goal              14217 non-null  object \n",
      " 78  shoton            14217 non-null  object \n",
      " 79  shotoff           14217 non-null  object \n",
      " 80  foulcommit        14217 non-null  object \n",
      " 81  card              14217 non-null  object \n",
      " 82  cross             14217 non-null  object \n",
      " 83  corner            14217 non-null  object \n",
      " 84  possession        14217 non-null  object \n",
      "dtypes: float64(66), int64(5), object(14)\n",
      "memory usage: 16.8+ MB\n"
     ]
    }
   ],
   "source": [
    "#now lets check for our column names and thier data type and Non_null values from each column\n",
    "df.info()"
   ]
  },
  {
   "cell_type": "markdown",
   "id": "6ca72e8d",
   "metadata": {},
   "source": [
    "Excellent! we dont have any missing values in our columns"
   ]
  },
  {
   "cell_type": "code",
   "execution_count": 17,
   "id": "ea85e104",
   "metadata": {},
   "outputs": [
    {
     "name": "stdout",
     "output_type": "stream",
     "text": [
      "          id   country_id                 league_id     season  stage  \\\n",
      "0          1      Belgium    Belgium Jupiler League  2008/2009      1   \n",
      "1          2      Belgium    Belgium Jupiler League  2008/2009      1   \n",
      "2          3      Belgium    Belgium Jupiler League  2008/2009      1   \n",
      "3          4      Belgium    Belgium Jupiler League  2008/2009      1   \n",
      "4          5      Belgium    Belgium Jupiler League  2008/2009      1   \n",
      "...      ...          ...                       ...        ...    ...   \n",
      "25974  25975  Switzerland  Switzerland Super League  2015/2016      9   \n",
      "25975  25976  Switzerland  Switzerland Super League  2015/2016      9   \n",
      "25976  25977  Switzerland  Switzerland Super League  2015/2016      9   \n",
      "25977  25978  Switzerland  Switzerland Super League  2015/2016      9   \n",
      "25978  25979  Switzerland  Switzerland Super League  2015/2016      9   \n",
      "\n",
      "                  date  match_api_id         home_team_api_id  \\\n",
      "0      17/08/2008 0:00        492473                 KRC Genk   \n",
      "1      16/08/2008 0:00        492474         SV Zulte-Waregem   \n",
      "2      16/08/2008 0:00        492475        KSV Cercle Brugge   \n",
      "3      17/08/2008 0:00        492476                 KAA Gent   \n",
      "4      16/08/2008 0:00        492477            FCV Dender EH   \n",
      "...                ...           ...                      ...   \n",
      "25974  22/09/2015 0:00       1992091            FC St. Gallen   \n",
      "25975  23/09/2015 0:00       1992092                 FC Vaduz   \n",
      "25976  23/09/2015 0:00       1992093  Grasshopper Club Zürich   \n",
      "25977  22/09/2015 0:00       1992094                   Lugano   \n",
      "25978  23/09/2015 0:00       1992095           BSC Young Boys   \n",
      "\n",
      "        away_team_api_id  home_team_goal  ...  away_player_11  goal  shoton  \\\n",
      "0           Beerschot AC               1  ...             NaN   NaN     NaN   \n",
      "1       Sporting Lokeren               0  ...             NaN   NaN     NaN   \n",
      "2         RSC Anderlecht               0  ...             NaN   NaN     NaN   \n",
      "3              RAEC Mons               5  ...             NaN   NaN     NaN   \n",
      "4      Standard de Liège               1  ...             NaN   NaN     NaN   \n",
      "...                  ...             ...  ...             ...   ...     ...   \n",
      "25974            FC Thun               1  ...        289732.0   NaN     NaN   \n",
      "25975          FC Luzern               1  ...         95257.0   NaN     NaN   \n",
      "25976            FC Sion               2  ...        275122.0   NaN     NaN   \n",
      "25977          FC Zürich               0  ...        194532.0   NaN     NaN   \n",
      "25978           FC Basel               4  ...        527103.0   NaN     NaN   \n",
      "\n",
      "       shotoff  foulcommit  card  cross  corner  possession  goals_scored  \n",
      "0          NaN         NaN   NaN    NaN     NaN         NaN             2  \n",
      "1          NaN         NaN   NaN    NaN     NaN         NaN             0  \n",
      "2          NaN         NaN   NaN    NaN     NaN         NaN             3  \n",
      "3          NaN         NaN   NaN    NaN     NaN         NaN             5  \n",
      "4          NaN         NaN   NaN    NaN     NaN         NaN             4  \n",
      "...        ...         ...   ...    ...     ...         ...           ...  \n",
      "25974      NaN         NaN   NaN    NaN     NaN         NaN             1  \n",
      "25975      NaN         NaN   NaN    NaN     NaN         NaN             3  \n",
      "25976      NaN         NaN   NaN    NaN     NaN         NaN             2  \n",
      "25977      NaN         NaN   NaN    NaN     NaN         NaN             0  \n",
      "25978      NaN         NaN   NaN    NaN     NaN         NaN             7  \n",
      "\n",
      "[25979 rows x 86 columns]\n"
     ]
    }
   ],
   "source": [
    "# Create 'goals_scored' column (total goals)\n",
    "df['goals_scored'] = df['home_team_goal'] + df['away_team_goal']\n",
    "\n",
    "print(df)"
   ]
  },
  {
   "cell_type": "code",
   "execution_count": 18,
   "id": "ed2a67d8",
   "metadata": {},
   "outputs": [
    {
     "name": "stdout",
     "output_type": "stream",
     "text": [
      "Index(['id', 'country_id', 'league_id', 'season', 'stage', 'date',\n",
      "       'match_api_id', 'home_team_api_id', 'away_team_api_id',\n",
      "       'home_team_goal', 'away_team_goal', 'home_player_X1', 'home_player_X2',\n",
      "       'home_player_X3', 'home_player_X4', 'home_player_X5', 'home_player_X6',\n",
      "       'home_player_X7', 'home_player_X8', 'home_player_X9', 'home_player_X10',\n",
      "       'home_player_X11', 'away_player_X1', 'away_player_X2', 'away_player_X3',\n",
      "       'away_player_X4', 'away_player_X5', 'away_player_X6', 'away_player_X7',\n",
      "       'away_player_X8', 'away_player_X9', 'away_player_X10',\n",
      "       'away_player_X11', 'home_player_Y1', 'home_player_Y2', 'home_player_Y3',\n",
      "       'home_player_Y4', 'home_player_Y5', 'home_player_Y6', 'home_player_Y7',\n",
      "       'home_player_Y8', 'home_player_Y9', 'home_player_Y10',\n",
      "       'home_player_Y11', 'away_player_Y1', 'away_player_Y2', 'away_player_Y3',\n",
      "       'away_player_Y4', 'away_player_Y5', 'away_player_Y6', 'away_player_Y7',\n",
      "       'away_player_Y8', 'away_player_Y9', 'away_player_Y10',\n",
      "       'away_player_Y11', 'home_player_1', 'home_player_2', 'home_player_3',\n",
      "       'home_player_4', 'home_player_5', 'home_player_6', 'home_player_7',\n",
      "       'home_player_8', 'home_player_9', 'home_player_10', 'home_player_11',\n",
      "       'away_player_1', 'away_player_2', 'away_player_3', 'away_player_4',\n",
      "       'away_player_5', 'away_player_6', 'away_player_7', 'away_player_8',\n",
      "       'away_player_9', 'away_player_10', 'away_player_11', 'goal', 'shoton',\n",
      "       'shotoff', 'foulcommit', 'card', 'cross', 'corner', 'possession',\n",
      "       'goals_scored'],\n",
      "      dtype='object')\n"
     ]
    }
   ],
   "source": [
    "print(df.columns)"
   ]
  },
  {
   "cell_type": "code",
   "execution_count": 19,
   "id": "ab408a86",
   "metadata": {},
   "outputs": [
    {
     "name": "stdout",
     "output_type": "stream",
     "text": [
      "The team that played the most is: Olympique Lyonnais (304 games)\n"
     ]
    }
   ],
   "source": [
    "# Combine home and away teams into a single Series\n",
    "all_teams = pd.concat([df['home_team_api_id'], df['away_team_api_id']])\n",
    "\n",
    "# Count the occurrences of each team\n",
    "team_counts = all_teams.value_counts()\n",
    "\n",
    "# Find the team with the most appearances\n",
    "most_played_team = team_counts.index[0]  # Get the team name with the highest count\n",
    "most_played_count = team_counts.iloc[0]  # Get the highest count\n",
    "\n",
    "print(f\"The team that played the most is: {most_played_team} ({most_played_count} games)\")"
   ]
  },
  {
   "cell_type": "code",
   "execution_count": 20,
   "id": "738cb56e",
   "metadata": {
    "scrolled": false
   },
   "outputs": [
    {
     "name": "stdout",
     "output_type": "stream",
     "text": [
      "                    league_id                   winner  wins\n",
      "20     Belgium Jupiler League        Standard de Liège   204\n",
      "50     England Premier League        Tottenham Hotspur   258\n",
      "85             France Ligue 1              Toulouse FC   282\n",
      "117     Germany 1. Bundesliga            VfL Wolfsburg   272\n",
      "148             Italy Serie A                  Udinese   302\n",
      "171    Netherlands Eredivisie                  Vitesse   260\n",
      "193        Poland Ekstraklasa            Śląsk Wrocław   240\n",
      "221  Portugal Liga ZON Sagres          Vitória Setúbal   248\n",
      "237   Scotland Premier League               St. Mirren   266\n",
      "267           Spain LIGA BBVA              Valencia CF   288\n",
      "280  Switzerland Super League  Grasshopper Club Zürich   260\n"
     ]
    }
   ],
   "source": [
    "# Assuming your DataFrame is called 'df'\n",
    "# Example of how to create a winner column.\n",
    "# this is an example, you will need to adjust this to your data.\n",
    "def determine_winner(row):\n",
    "    if row['home_team_api_id'] > row['away_team_api_id']:\n",
    "        return row['home_team_api_id']\n",
    "    elif row['home_team_api_id'] < row['away_team_api_id']:\n",
    "        return row['away_team_api_id']\n",
    "    else:\n",
    "        return 'draw'\n",
    "\n",
    "df['winner'] = df.apply(determine_winner, axis=1)\n",
    "\n",
    "# Filter out draws\n",
    "win_df = df[df['winner'] != 'draw']\n",
    "\n",
    "# Count wins per team and league\n",
    "wins_per_team_league = win_df.groupby(['league_id', 'winner']).size().reset_index(name='wins')\n",
    "\n",
    "\n",
    "# Find the team with the most wins in each league\n",
    "most_wins_per_league = wins_per_team_league.loc[wins_per_team_league.groupby('league_id')['wins'].idxmax()]\n",
    "\n",
    "# Print the results\n",
    "print(most_wins_per_league)"
   ]
  },
  {
   "cell_type": "markdown",
   "id": "f6980ed2",
   "metadata": {},
   "source": [
    "Fantastic,now we can see that the most winning team i our data is Udinece"
   ]
  },
  {
   "cell_type": "markdown",
   "id": "b4b263b9",
   "metadata": {},
   "source": [
    "## Data Cleaning"
   ]
  },
  {
   "cell_type": "code",
   "execution_count": 21,
   "id": "7ed64f68",
   "metadata": {
    "scrolled": true
   },
   "outputs": [
    {
     "name": "stdout",
     "output_type": "stream",
     "text": [
      "          id   country_id                 league_id     season  stage  \\\n",
      "0          1      Belgium    Belgium Jupiler League  2008/2009      1   \n",
      "1          2      Belgium    Belgium Jupiler League  2008/2009      1   \n",
      "2          3      Belgium    Belgium Jupiler League  2008/2009      1   \n",
      "3          4      Belgium    Belgium Jupiler League  2008/2009      1   \n",
      "4          5      Belgium    Belgium Jupiler League  2008/2009      1   \n",
      "...      ...          ...                       ...        ...    ...   \n",
      "25974  25975  Switzerland  Switzerland Super League  2015/2016      9   \n",
      "25975  25976  Switzerland  Switzerland Super League  2015/2016      9   \n",
      "25976  25977  Switzerland  Switzerland Super League  2015/2016      9   \n",
      "25977  25978  Switzerland  Switzerland Super League  2015/2016      9   \n",
      "25978  25979  Switzerland  Switzerland Super League  2015/2016      9   \n",
      "\n",
      "                  date  match_api_id         home_team_api_id  \\\n",
      "0      17/08/2008 0:00        492473                 KRC Genk   \n",
      "1      16/08/2008 0:00        492474         SV Zulte-Waregem   \n",
      "2      16/08/2008 0:00        492475        KSV Cercle Brugge   \n",
      "3      17/08/2008 0:00        492476                 KAA Gent   \n",
      "4      16/08/2008 0:00        492477            FCV Dender EH   \n",
      "...                ...           ...                      ...   \n",
      "25974  22/09/2015 0:00       1992091            FC St. Gallen   \n",
      "25975  23/09/2015 0:00       1992092                 FC Vaduz   \n",
      "25976  23/09/2015 0:00       1992093  Grasshopper Club Zürich   \n",
      "25977  22/09/2015 0:00       1992094                   Lugano   \n",
      "25978  23/09/2015 0:00       1992095           BSC Young Boys   \n",
      "\n",
      "        away_team_api_id  home_team_goal  away_team_goal  goals_scored  \\\n",
      "0           Beerschot AC               1               1             2   \n",
      "1       Sporting Lokeren               0               0             0   \n",
      "2         RSC Anderlecht               0               3             3   \n",
      "3              RAEC Mons               5               0             5   \n",
      "4      Standard de Liège               1               3             4   \n",
      "...                  ...             ...             ...           ...   \n",
      "25974            FC Thun               1               0             1   \n",
      "25975          FC Luzern               1               2             3   \n",
      "25976            FC Sion               2               0             2   \n",
      "25977          FC Zürich               0               0             0   \n",
      "25978           FC Basel               4               3             7   \n",
      "\n",
      "                        winner  \n",
      "0                     KRC Genk  \n",
      "1             Sporting Lokeren  \n",
      "2               RSC Anderlecht  \n",
      "3                    RAEC Mons  \n",
      "4            Standard de Liège  \n",
      "...                        ...  \n",
      "25974                  FC Thun  \n",
      "25975                 FC Vaduz  \n",
      "25976  Grasshopper Club Zürich  \n",
      "25977                   Lugano  \n",
      "25978                 FC Basel  \n",
      "\n",
      "[25979 rows x 13 columns]\n"
     ]
    }
   ],
   "source": [
    "# now lets drop the unneceessary columns\n",
    "# Specify the starting and ending column indices\n",
    "start_index = 11 # Index of 'col 12'\n",
    "end_index = 84  # Index of 'col'\n",
    "\n",
    "# Drop the columns in the specified range\n",
    "df.drop(df.columns[start_index:end_index + 1], axis=1, inplace=True)\n",
    "\n",
    "print(df)"
   ]
  },
  {
   "cell_type": "markdown",
   "id": "fb6e1480",
   "metadata": {},
   "source": [
    "now we have removed all unnecessary data in this our soccer dataset"
   ]
  },
  {
   "cell_type": "code",
   "execution_count": 22,
   "id": "7d36be7f",
   "metadata": {},
   "outputs": [
    {
     "data": {
      "text/plain": [
       "Index(['id', 'country_id', 'league_id', 'season', 'stage', 'date',\n",
       "       'match_api_id', 'home_team_api_id', 'away_team_api_id',\n",
       "       'home_team_goal', 'away_team_goal', 'goals_scored', 'winner'],\n",
       "      dtype='object')"
      ]
     },
     "execution_count": 22,
     "metadata": {},
     "output_type": "execute_result"
    }
   ],
   "source": [
    "#printing and checking the new columns after dropping the uneeded columns\n",
    "df.columns"
   ]
  },
  {
   "cell_type": "markdown",
   "id": "45bab340",
   "metadata": {},
   "source": [
    "# Data Wrangling Summery\n",
    "\n",
    "In conclusion, the data wrangling process for the soccer dataset involved cleaning, transforming, and organizing the raw data to make it suitable for analysis. This included handling missing values, converting data types, creating new features like the goal_scored column, and standardizing team names. The resulting dataset is now ready for exploratory data analysis (EDA) and further investigations into the factors influencing match outcomes and team performance."
   ]
  },
  {
   "cell_type": "markdown",
   "id": "4bcdfd39",
   "metadata": {},
   "source": [
    "# Exploratory data analysis(eda)\n",
    "\n",
    "now that we have cleaned our data we are ready to move to exploration: Creating visualizations with the goal of answering questions that we posed in the introduction section"
   ]
  },
  {
   "cell_type": "code",
   "execution_count": 23,
   "id": "1a3e72dd",
   "metadata": {},
   "outputs": [
    {
     "data": {
      "image/png": "[encoded data removed]",
      "text/plain": [
       "<Figure size 900x600 with 1 Axes>"
      ]
     },
     "metadata": {},
     "output_type": "display_data"
    }
   ],
   "source": [
    "#now lets see the distribution of Goals scored\n",
    "plt.figure(figsize=(9, 6))\n",
    "sns.histplot(df['goals_scored'], bins=100)\n",
    "plt.title('Distribution of Goals Scored')\n",
    "plt.show()"
   ]
  },
  {
   "cell_type": "markdown",
   "id": "c6e316c5",
   "metadata": {},
   "source": [
    "as we can see the most frequent goals scored in this looks to be that 2 goals are the most common scores in your dataset."
   ]
  },
  {
   "cell_type": "code",
   "execution_count": 24,
   "id": "ee0b9878",
   "metadata": {},
   "outputs": [
    {
     "data": {
      "image/png": "[encoded data removed]",
      "text/plain": [
       "<Figure size 640x480 with 1 Axes>"
      ]
     },
     "metadata": {},
     "output_type": "display_data"
    }
   ],
   "source": [
    "#\n",
    "sns.barplot(x='league_id', y='goals_scored', data=df)\n",
    "plt.xticks(rotation=45, ha='right')  # Rotate x-axis labels for readability\n",
    "plt.title('Total Goals Scored by League')\n",
    "plt.show()"
   ]
  },
  {
   "cell_type": "markdown",
   "id": "bbefc917",
   "metadata": {},
   "source": [
    "As we can see the Netherlands Eredivisie has the most goal_scored in all leagues "
   ]
  },
  {
   "cell_type": "code",
   "execution_count": 25,
   "id": "870a8653",
   "metadata": {
    "scrolled": false
   },
   "outputs": [
    {
     "data": {
      "image/png": "[encoded data removed]",
      "text/plain": [
       "<Figure size 2500x750 with 1 Axes>"
      ]
     },
     "metadata": {},
     "output_type": "display_data"
    }
   ],
   "source": [
    "plt.figure(figsize=(25, 7.5))\n",
    "\n",
    "# Show how many goals each team scored, using boxplots.\n",
    "sns.boxplot(x='home_team_goal', y='away_team_goal', data=df)\n",
    "\n",
    "# Give the picture a title.\n",
    "plt.title('Home team goals vs Away team goals')\n",
    "\n",
    "# Show the picture.\n",
    "plt.show()"
   ]
  },
  {
   "cell_type": "markdown",
   "id": "94d186ff",
   "metadata": {},
   "source": [
    "As we can see there is a consistent pattern of higher median scores for home teams compared to away teams in most leagues. Additionally, the spread of scores for home teams is generally wider, indicating greater variability in their performance. This suggests a potential home-field advantage, where teams tend to score more goals when playing on their own grounds."
   ]
  },
  {
   "cell_type": "markdown",
   "id": "76e9f132",
   "metadata": {},
   "source": [
    "# Conclusions"
   ]
  },
  {
   "cell_type": "markdown",
   "id": "4975afd8",
   "metadata": {},
   "source": [
    "The data wrangling phase of our soccer dataset involved a series of steps to ensure the data is clean, reliable, and ready for analysis. Key actions included addressing missing values, and engineering new features like the goals_scored column to facilitate comprehensive analysis. These efforts have transformed the raw data into a usable format, enabling meaningful exploration and visualization.\n",
    "\n",
    "\n",
    "The analysis of the soccer dataset has provided valuable insights into various aspects of the game, including team performance, goal-scoring patterns, and the influence of leagues. Notably, the findings highlight a potential home-field advantage, with teams tending to score more goals when playing at home\n",
    "\n",
    " we can also see the average goals scored per game in each league. The Netherlands Eredivisie has the highest average, followed closely by the England Premier League and the Germany 1 Bundesliga. The leagues with the lowest scoring rates are the Switzerland Super League and the Belgium Jupiler League.\n",
    "\n",
    "we can also see that there is a consistent pattern of higher median scores for home teams compared to away teams in most leagues. Additionally, the spread of scores for home teams is generally wider, indicating greater variability in their performance.\n"
   ]
  },
  {
   "cell_type": "markdown",
   "id": "99118cac",
   "metadata": {},
   "source": [
    "# Limitations\n",
    "\n",
    "1) There were missing Player Statistics: The dataset lacks individual player statistics, such as goals, assists, and cards. This limits the analysis of individual player performance and their impact on match outcomes.\n",
    "\n",
    "2) Limited Contextual Information: The dataset provides limited contextual information about matches, such as weather conditions, referee decisions, and This information could be valuable in understanding how these factors might influence match results.\n",
    "\n"
   ]
  },
  {
   "cell_type": "code",
   "execution_count": null,
   "id": "2458ca6e",
   "metadata": {},
   "outputs": [],
   "source": []
  }
 ],
 "metadata": {
  "kernelspec": {
   "display_name": "Python 3 (ipykernel)",
   "language": "python",
   "name": "python3"
  },
  "language_info": {
   "codemirror_mode": {
    "name": "ipython",
    "version": 3
   },
   "file_extension": ".py",
   "mimetype": "text/x-python",
   "name": "python",
   "nbconvert_exporter": "python",
   "pygments_lexer": "ipython3",
   "version": "3.11.5"
  }
 },
 "nbformat": 4,
 "nbformat_minor": 5
}
